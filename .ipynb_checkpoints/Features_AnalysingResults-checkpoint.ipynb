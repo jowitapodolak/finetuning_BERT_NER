{
 "cells": [
  {
   "cell_type": "markdown",
   "metadata": {},
   "source": [
    "# Features : Analysing Results"
   ]
  },
  {
   "cell_type": "code",
   "execution_count": 78,
   "metadata": {},
   "outputs": [],
   "source": [
    "import pandas as pd\n",
    "import numpy as np\n",
    "import seaborn as sns\n",
    "from statistics import mean, variance"
   ]
  },
  {
   "cell_type": "markdown",
   "metadata": {},
   "source": [
    "1) Read in results:"
   ]
  },
  {
   "cell_type": "code",
   "execution_count": 2,
   "metadata": {},
   "outputs": [
    {
     "ename": "NameError",
     "evalue": "name 'pd' is not defined",
     "output_type": "error",
     "traceback": [
      "\u001b[0;31m---------------------------------------------------------------------------\u001b[0m",
      "\u001b[0;31mNameError\u001b[0m                                 Traceback (most recent call last)",
      "\u001b[0;32m<ipython-input-2-0906a50356b2>\u001b[0m in \u001b[0;36m<module>\u001b[0;34m\u001b[0m\n\u001b[1;32m      1\u001b[0m \u001b[0;31m# from Jowita: results = pd.DataFrame(columns=['FEATURE','EXPERIMENT','FINE_TUNING','f1_1', 'f1_2', 'f1_3','f1_4'])\u001b[0m\u001b[0;34m\u001b[0m\u001b[0;34m\u001b[0m\u001b[0;34m\u001b[0m\u001b[0m\n\u001b[1;32m      2\u001b[0m \u001b[0;34m\u001b[0m\u001b[0m\n\u001b[0;32m----> 3\u001b[0;31m \u001b[0mfeat_results_raw\u001b[0m \u001b[0;34m=\u001b[0m \u001b[0mpd\u001b[0m\u001b[0;34m.\u001b[0m\u001b[0mread_csv\u001b[0m\u001b[0;34m(\u001b[0m\u001b[0;34m'ADD PATH HERE'\u001b[0m\u001b[0;34m,\u001b[0m \u001b[0msep\u001b[0m\u001b[0;34m=\u001b[0m\u001b[0;34m','\u001b[0m\u001b[0;34m)\u001b[0m\u001b[0;34m\u001b[0m\u001b[0;34m\u001b[0m\u001b[0m\n\u001b[0m\u001b[1;32m      4\u001b[0m \u001b[0mfeat_results_raw\u001b[0m\u001b[0;34m.\u001b[0m\u001b[0mhead\u001b[0m\u001b[0;34m(\u001b[0m\u001b[0;34m)\u001b[0m\u001b[0;34m\u001b[0m\u001b[0;34m\u001b[0m\u001b[0m\n",
      "\u001b[0;31mNameError\u001b[0m: name 'pd' is not defined"
     ]
    }
   ],
   "source": [
    "# from Jowita: results = pd.DataFrame(columns=['FEATURE','EXPERIMENT','FINE_TUNING','f1_1', 'f1_2', 'f1_3','f1_4'])\n",
    "\n",
    "feat_results_raw = pd.read_csv('ADD PATH HERE', sep=',')\n",
    "feat_results_raw.head()"
   ]
  },
  {
   "cell_type": "markdown",
   "metadata": {},
   "source": [
    "2) Data Cleaning: Filter for f1 scores + mean/variance/std calculation of f1 score"
   ]
  },
  {
   "cell_type": "code",
   "execution_count": 3,
   "metadata": {},
   "outputs": [
    {
     "ename": "NameError",
     "evalue": "name 'feat_results_raw' is not defined",
     "output_type": "error",
     "traceback": [
      "\u001b[0;31m---------------------------------------------------------------------------\u001b[0m",
      "\u001b[0;31mNameError\u001b[0m                                 Traceback (most recent call last)",
      "\u001b[0;32m<ipython-input-3-f1dc938f197e>\u001b[0m in \u001b[0;36m<module>\u001b[0;34m\u001b[0m\n\u001b[0;32m----> 1\u001b[0;31m \u001b[0mfeat_results_f1\u001b[0m \u001b[0;34m=\u001b[0m \u001b[0mfeat_results_raw\u001b[0m\u001b[0;34m[\u001b[0m\u001b[0;34m[\u001b[0m\u001b[0;34m'FEATURE'\u001b[0m\u001b[0;34m,\u001b[0m\u001b[0;34m'EXPERIMENT'\u001b[0m\u001b[0;34m,\u001b[0m \u001b[0;34m'FINE_TUNING'\u001b[0m\u001b[0;34m,\u001b[0m \u001b[0;34m'f1_1'\u001b[0m\u001b[0;34m,\u001b[0m\u001b[0;34m'f1_2'\u001b[0m\u001b[0;34m,\u001b[0m\u001b[0;34m'f1_3'\u001b[0m\u001b[0;34m,\u001b[0m\u001b[0;34m'f1_4'\u001b[0m\u001b[0;34m]\u001b[0m\u001b[0;34m]\u001b[0m\u001b[0;34m\u001b[0m\u001b[0;34m\u001b[0m\u001b[0m\n\u001b[0m\u001b[1;32m      2\u001b[0m \u001b[0;34m\u001b[0m\u001b[0m\n\u001b[1;32m      3\u001b[0m \u001b[0mfeat_results_f1\u001b[0m \u001b[0;34m=\u001b[0m \u001b[0mfeat_results_f1\u001b[0m\u001b[0;34m.\u001b[0m\u001b[0mreindex\u001b[0m\u001b[0;34m(\u001b[0m\u001b[0mcolumns\u001b[0m \u001b[0;34m=\u001b[0m \u001b[0;34m[\u001b[0m\u001b[0;34m'FEATURE'\u001b[0m\u001b[0;34m,\u001b[0m\u001b[0;34m'EXPERIMENT'\u001b[0m\u001b[0;34m,\u001b[0m \u001b[0;34m'FINE_TUNING'\u001b[0m\u001b[0;34m,\u001b[0m\u001b[0;34m'f1_1'\u001b[0m\u001b[0;34m,\u001b[0m\u001b[0;34m'f1_2'\u001b[0m\u001b[0;34m,\u001b[0m\u001b[0;34m'f1_3'\u001b[0m\u001b[0;34m,\u001b[0m\u001b[0;34m'f1_4'\u001b[0m\u001b[0;34m,\u001b[0m\u001b[0;34m'mean'\u001b[0m\u001b[0;34m,\u001b[0m\u001b[0;34m'variance'\u001b[0m\u001b[0;34m,\u001b[0m \u001b[0;34m'standard dev'\u001b[0m\u001b[0;34m]\u001b[0m\u001b[0;34m)\u001b[0m\u001b[0;34m\u001b[0m\u001b[0;34m\u001b[0m\u001b[0m\n\u001b[1;32m      4\u001b[0m \u001b[0;34m\u001b[0m\u001b[0m\n\u001b[1;32m      5\u001b[0m \u001b[0;31m# changing to procent format\u001b[0m\u001b[0;34m\u001b[0m\u001b[0;34m\u001b[0m\u001b[0;34m\u001b[0m\u001b[0m\n",
      "\u001b[0;31mNameError\u001b[0m: name 'feat_results_raw' is not defined"
     ]
    }
   ],
   "source": [
    "feat_results_f1 = feat_results_raw[['FEATURE','EXPERIMENT', 'FINE_TUNING', 'f1_1','f1_2','f1_3','f1_4']]\n",
    "    \n",
    "feat_results_f1 = feat_results_f1.reindex(columns = ['FEATURE','EXPERIMENT', 'FINE_TUNING','f1_1','f1_2','f1_3','f1_4','mean','variance', 'standard dev'])\n",
    "\n",
    "# changing to procent format\n",
    "feat_results_f1['f1_1'] = feat_results_f1['f1_1'].apply(lambda x: x*100)\n",
    "feat_results_f1['f1_2'] = feat_results_f1['f1_2'].apply(lambda x: x*100)\n",
    "feat_results_f1['f1_3'] = feat_results_f1['f1_3'].apply(lambda x: x*100)\n",
    "feat_results_f1['f1_4'] = feat_results_f1['f1_4'].apply(lambda x: x*100)\n",
    "\n",
    "for index, row in lan_results_f1.iterrows():\n",
    "    \n",
    "    if row['f1_4'] == 0:\n",
    "        feat_results_f1.at[index,'mean'] = np.mean([row['f1_1'],row['f1_2'],row['f1_3']])\n",
    "        feat_results_f1.at[index,'variance'] = np.var([row['f1_1'],row['f1_2'],row['f1_3']])\n",
    "        feat_results_f1.at[index,'standard dev'] = np.std([row['f1_1'],row['f1_2'],row['f1_3']])\n",
    "    else:\n",
    "        feat_results_f1.at[index,'mean'] = np.mean([row['f1_1'],row['f1_2'],row['f1_3'],row['f1_4']])\n",
    "        feat_results_f1.at[index,'variance'] = np.var([row['f1_1'],row['f1_2'],row['f1_3'],row['f1_4']])\n",
    "        feat_results_f1.at[index,'standard dev'] = np.std([row['f1_1'],row['f1_2'],row['f1_3'],row['f1_4']])\n",
    "\n",
    "feat_results_f1.head()"
   ]
  },
  {
   "cell_type": "markdown",
   "metadata": {},
   "source": [
    "3) Change format to: [EXPERIMENT, FINE_TUNING_1_f1_score_mean, FINE_TUNING_1_f1_score_std, FINE_TUNING_2_f1_score_mean, FINE_TUNING_2_f1_score_std, relative improvement]"
   ]
  },
  {
   "cell_type": "markdown",
   "metadata": {},
   "source": [
    "Note: for each feature two experiments changing eval/fine-tune TRUE group"
   ]
  },
  {
   "cell_type": "code",
   "execution_count": 4,
   "metadata": {},
   "outputs": [
    {
     "ename": "IndentationError",
     "evalue": "unexpected indent (<ipython-input-4-50dc79fdd940>, line 5)",
     "output_type": "error",
     "traceback": [
      "\u001b[0;36m  File \u001b[0;32m\"<ipython-input-4-50dc79fdd940>\"\u001b[0;36m, line \u001b[0;32m5\u001b[0m\n\u001b[0;31m    for index, row in feat_results_f1.iterrows():\u001b[0m\n\u001b[0m    ^\u001b[0m\n\u001b[0;31mIndentationError\u001b[0m\u001b[0;31m:\u001b[0m unexpected indent\n"
     ]
    }
   ],
   "source": [
    "feat_results_compressed = pd.DataFrame(columns=['EXPERIM','FINT1_f1_mean','FINT1_f1_std','FINT2_f1_mean','FINT2_f1_std','rel. Diff'])\n",
    "\n",
    "list_of_Series = []\n",
    "\n",
    "for index, row in feat_results_f1.iterrows():\n",
    "    \n",
    "    if (index % 2 == 0):\n",
    "            \n",
    "        f2_mean = feat_results_f1[index+1]['mean']\n",
    "        f2_std = feat_results_f1[index+1]['standard dev']\n",
    "        rel_diff = (row['mean'] - f2_mean)/ row['mean']\n",
    "            \n",
    "            \n",
    "        list_of_Series += [pd.Series([row['EXPERIMENT'], row['mean'], row['standard dev'], f2_mean, f2_std, rel_diff], index=feat_results_compressed.columns)]\n",
    "\n",
    "feat_results_compressed = feat_results_compressed.append(list_of_Series, ignore_index=True)\n",
    "\n",
    "feat_results_compressed"
   ]
  },
  {
   "cell_type": "code",
   "execution_count": null,
   "metadata": {},
   "outputs": [],
   "source": []
  }
 ],
 "metadata": {
  "kernelspec": {
   "display_name": "Python 3",
   "language": "python",
   "name": "python3"
  },
  "language_info": {
   "codemirror_mode": {
    "name": "ipython",
    "version": 3
   },
   "file_extension": ".py",
   "mimetype": "text/x-python",
   "name": "python",
   "nbconvert_exporter": "python",
   "pygments_lexer": "ipython3",
   "version": "3.7.3"
  }
 },
 "nbformat": 4,
 "nbformat_minor": 4
}
