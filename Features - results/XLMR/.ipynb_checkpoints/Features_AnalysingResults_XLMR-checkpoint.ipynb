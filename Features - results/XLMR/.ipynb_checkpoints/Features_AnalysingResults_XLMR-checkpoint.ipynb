{
 "cells": [
  {
   "cell_type": "markdown",
   "metadata": {},
   "source": [
    "# Features : Analysing Results"
   ]
  },
  {
   "cell_type": "code",
   "execution_count": 2,
   "metadata": {},
   "outputs": [],
   "source": [
    "import pandas as pd\n",
    "import numpy as np\n",
    "import seaborn as sns\n",
    "from statistics import mean, variance"
   ]
  },
  {
   "cell_type": "markdown",
   "metadata": {},
   "source": [
    "1) Read in results:"
   ]
  },
  {
   "cell_type": "code",
   "execution_count": 3,
   "metadata": {},
   "outputs": [
    {
     "data": {
      "text/html": [
       "<div>\n",
       "<style scoped>\n",
       "    .dataframe tbody tr th:only-of-type {\n",
       "        vertical-align: middle;\n",
       "    }\n",
       "\n",
       "    .dataframe tbody tr th {\n",
       "        vertical-align: top;\n",
       "    }\n",
       "\n",
       "    .dataframe thead th {\n",
       "        text-align: right;\n",
       "    }\n",
       "</style>\n",
       "<table border=\"1\" class=\"dataframe\">\n",
       "  <thead>\n",
       "    <tr style=\"text-align: right;\">\n",
       "      <th></th>\n",
       "      <th>FEATURE</th>\n",
       "      <th>DATASET</th>\n",
       "      <th>EXPERIMENT</th>\n",
       "      <th>FINE_TUNING</th>\n",
       "      <th>eval_loss</th>\n",
       "      <th>f1 score</th>\n",
       "    </tr>\n",
       "  </thead>\n",
       "  <tbody>\n",
       "    <tr>\n",
       "      <th>0</th>\n",
       "      <td>Feature 1</td>\n",
       "      <td>1</td>\n",
       "      <td>1</td>\n",
       "      <td>fine_tuning 1</td>\n",
       "      <td>0.293387</td>\n",
       "      <td>0.850223</td>\n",
       "    </tr>\n",
       "    <tr>\n",
       "      <th>1</th>\n",
       "      <td>Feature 1</td>\n",
       "      <td>1</td>\n",
       "      <td>1</td>\n",
       "      <td>fine_tuning 2</td>\n",
       "      <td>0.287140</td>\n",
       "      <td>0.847339</td>\n",
       "    </tr>\n",
       "    <tr>\n",
       "      <th>2</th>\n",
       "      <td>Feature 1</td>\n",
       "      <td>1</td>\n",
       "      <td>2</td>\n",
       "      <td>fine_tuning 1</td>\n",
       "      <td>0.189678</td>\n",
       "      <td>0.866065</td>\n",
       "    </tr>\n",
       "    <tr>\n",
       "      <th>3</th>\n",
       "      <td>Feature 1</td>\n",
       "      <td>1</td>\n",
       "      <td>2</td>\n",
       "      <td>fine_tuning 2</td>\n",
       "      <td>0.204986</td>\n",
       "      <td>0.866517</td>\n",
       "    </tr>\n",
       "    <tr>\n",
       "      <th>4</th>\n",
       "      <td>Feature 1</td>\n",
       "      <td>2</td>\n",
       "      <td>1</td>\n",
       "      <td>fine_tuning 1</td>\n",
       "      <td>0.271772</td>\n",
       "      <td>0.841080</td>\n",
       "    </tr>\n",
       "  </tbody>\n",
       "</table>\n",
       "</div>"
      ],
      "text/plain": [
       "     FEATURE  DATASET  EXPERIMENT    FINE_TUNING  eval_loss  f1 score\n",
       "0  Feature 1        1           1  fine_tuning 1   0.293387  0.850223\n",
       "1  Feature 1        1           1  fine_tuning 2   0.287140  0.847339\n",
       "2  Feature 1        1           2  fine_tuning 1   0.189678  0.866065\n",
       "3  Feature 1        1           2  fine_tuning 2   0.204986  0.866517\n",
       "4  Feature 1        2           1  fine_tuning 1   0.271772  0.841080"
      ]
     },
     "execution_count": 3,
     "metadata": {},
     "output_type": "execute_result"
    }
   ],
   "source": [
    "# from Jowita: results = pd.DataFrame(columns=['FEATURE','EXPERIMENT','FINE_TUNING','f1_1', 'f1_2', 'f1_3','f1_4'])\n",
    "\n",
    "feat_results_raw = pd.read_csv('features_gathering_results.csv', sep=',')\n",
    "feat_results_raw.head()"
   ]
  },
  {
   "cell_type": "code",
   "execution_count": 11,
   "metadata": {},
   "outputs": [
    {
     "data": {
      "text/plain": [
       "['Feature 1',\n",
       " 'Feature 2',\n",
       " 'Feature 3',\n",
       " 'Feature 4',\n",
       " 'Feature 5',\n",
       " 'Feature 6',\n",
       " 'Feature 7',\n",
       " 'Feature 8',\n",
       " 'Feature 9',\n",
       " 'Feature 10',\n",
       " 'Feature 11',\n",
       " 'Feature 12',\n",
       " 'Feature 13']"
      ]
     },
     "execution_count": 11,
     "metadata": {},
     "output_type": "execute_result"
    }
   ],
   "source": [
    "feat_results_raw['FEATURE'].unique().tolist()"
   ]
  },
  {
   "cell_type": "code",
   "execution_count": 23,
   "metadata": {},
   "outputs": [
    {
     "data": {
      "text/html": [
       "<div>\n",
       "<style scoped>\n",
       "    .dataframe tbody tr th:only-of-type {\n",
       "        vertical-align: middle;\n",
       "    }\n",
       "\n",
       "    .dataframe tbody tr th {\n",
       "        vertical-align: top;\n",
       "    }\n",
       "\n",
       "    .dataframe thead th {\n",
       "        text-align: right;\n",
       "    }\n",
       "</style>\n",
       "<table border=\"1\" class=\"dataframe\">\n",
       "  <thead>\n",
       "    <tr style=\"text-align: right;\">\n",
       "      <th></th>\n",
       "      <th>index</th>\n",
       "      <th>FEATURE</th>\n",
       "      <th>EXPERIMENT</th>\n",
       "      <th>FINE_TUNING</th>\n",
       "      <th>f1_1</th>\n",
       "      <th>f1_2</th>\n",
       "      <th>f1_3</th>\n",
       "      <th>f1_4</th>\n",
       "    </tr>\n",
       "  </thead>\n",
       "  <tbody>\n",
       "    <tr>\n",
       "      <th>0</th>\n",
       "      <td>0</td>\n",
       "      <td>Feature 1</td>\n",
       "      <td>1</td>\n",
       "      <td>fine_tuning 1</td>\n",
       "      <td>0.850223</td>\n",
       "      <td>0.841080</td>\n",
       "      <td>0.851772</td>\n",
       "      <td>0.839940</td>\n",
       "    </tr>\n",
       "    <tr>\n",
       "      <th>1</th>\n",
       "      <td>2</td>\n",
       "      <td>Feature 1</td>\n",
       "      <td>1</td>\n",
       "      <td>fine_tuning 2</td>\n",
       "      <td>0.847339</td>\n",
       "      <td>0.850418</td>\n",
       "      <td>0.863363</td>\n",
       "      <td>0.852795</td>\n",
       "    </tr>\n",
       "    <tr>\n",
       "      <th>2</th>\n",
       "      <td>1</td>\n",
       "      <td>Feature 1</td>\n",
       "      <td>2</td>\n",
       "      <td>fine_tuning 1</td>\n",
       "      <td>0.866065</td>\n",
       "      <td>0.835863</td>\n",
       "      <td>0.848378</td>\n",
       "      <td>0.847539</td>\n",
       "    </tr>\n",
       "    <tr>\n",
       "      <th>3</th>\n",
       "      <td>3</td>\n",
       "      <td>Feature 1</td>\n",
       "      <td>2</td>\n",
       "      <td>fine_tuning 2</td>\n",
       "      <td>0.866517</td>\n",
       "      <td>0.848608</td>\n",
       "      <td>0.841378</td>\n",
       "      <td>0.852172</td>\n",
       "    </tr>\n",
       "    <tr>\n",
       "      <th>4</th>\n",
       "      <td>36</td>\n",
       "      <td>Feature 10</td>\n",
       "      <td>1</td>\n",
       "      <td>fine_tuning 1</td>\n",
       "      <td>0.769393</td>\n",
       "      <td>0.785152</td>\n",
       "      <td>0.773613</td>\n",
       "      <td>0.787632</td>\n",
       "    </tr>\n",
       "  </tbody>\n",
       "</table>\n",
       "</div>"
      ],
      "text/plain": [
       "   index     FEATURE EXPERIMENT    FINE_TUNING      f1_1      f1_2      f1_3  \\\n",
       "0      0   Feature 1          1  fine_tuning 1  0.850223  0.841080  0.851772   \n",
       "1      2   Feature 1          1  fine_tuning 2  0.847339  0.850418  0.863363   \n",
       "2      1   Feature 1          2  fine_tuning 1  0.866065  0.835863  0.848378   \n",
       "3      3   Feature 1          2  fine_tuning 2  0.866517  0.848608  0.841378   \n",
       "4     36  Feature 10          1  fine_tuning 1  0.769393  0.785152  0.773613   \n",
       "\n",
       "       f1_4  \n",
       "0  0.839940  \n",
       "1  0.852795  \n",
       "2  0.847539  \n",
       "3  0.852172  \n",
       "4  0.787632  "
      ]
     },
     "execution_count": 23,
     "metadata": {},
     "output_type": "execute_result"
    }
   ],
   "source": [
    "#Transforming it to the format feat_results_raw[['FEATURE','EXPERIMENT','FINE_TUNING','f1_1', 'f1_2', 'f1_3','f1_4']]\n",
    "feat_results_transf = pd.DataFrame(columns=['FEATURE','EXPERIMENT','FINE_TUNING','f1_1', 'f1_2', 'f1_3','f1_4'])\n",
    "list_of_Series = []\n",
    "\n",
    "for feat in feat_results_raw['FEATURE'].unique().tolist():\n",
    "    \n",
    "    fine_tuning1 = feat_results_raw[(feat_results_raw['FEATURE'] == feat) & (feat_results_raw['FINE_TUNING'] == 'fine_tuning 1')]\n",
    "    fine_tuning1_exp1 = fine_tuning1[fine_tuning1['EXPERIMENT'] == 1].reset_index().sort_values(by='DATASET')\n",
    "    fine_tuning1_exp2 = fine_tuning1[fine_tuning1['EXPERIMENT'] == 2].reset_index().sort_values(by='DATASET')\n",
    "    \n",
    "    fine_tuning2 = feat_results_raw[(feat_results_raw['FEATURE'] == feat) & (feat_results_raw['FINE_TUNING'] == 'fine_tuning 2')]\n",
    "    fine_tuning2_exp1 = fine_tuning2[fine_tuning2['EXPERIMENT'] == 1].reset_index().sort_values(by='DATASET')\n",
    "    fine_tuning2_exp2 = fine_tuning2[fine_tuning2['EXPERIMENT'] == 2].reset_index().sort_values(by='DATASET')\n",
    "    \n",
    "    Series_fine_tuning1_exp1 = pd.Series([fine_tuning1_exp1['FEATURE'][0], fine_tuning1_exp1['EXPERIMENT'][0], fine_tuning1_exp1['FINE_TUNING'].iloc[0], fine_tuning1_exp1['f1 score'].iloc[0], fine_tuning1_exp1['f1 score'].iloc[1], fine_tuning1_exp1['f1 score'].iloc[2], fine_tuning1_exp1['f1 score'].iloc[3]], index=feat_results_transf.columns)\n",
    "    Series_fine_tuning1_exp2 = pd.Series([fine_tuning1_exp2['FEATURE'][0], fine_tuning1_exp2['EXPERIMENT'][0], fine_tuning1_exp2['FINE_TUNING'].iloc[0], fine_tuning1_exp2['f1 score'].iloc[0], fine_tuning1_exp2['f1 score'].iloc[1], fine_tuning1_exp2['f1 score'].iloc[2], fine_tuning1_exp2['f1 score'].iloc[3]], index=feat_results_transf.columns)\n",
    "    Series_fine_tuning2_exp1 = pd.Series([fine_tuning2_exp1['FEATURE'][0], fine_tuning2_exp1['EXPERIMENT'][0], fine_tuning2_exp1['FINE_TUNING'].iloc[0], fine_tuning2_exp1['f1 score'].iloc[0], fine_tuning2_exp1['f1 score'].iloc[1], fine_tuning2_exp1['f1 score'].iloc[2], fine_tuning2_exp1['f1 score'].iloc[3]], index=feat_results_transf.columns)\n",
    "    Series_fine_tuning2_exp2 = pd.Series([fine_tuning2_exp2['FEATURE'][0], fine_tuning2_exp2['EXPERIMENT'][0], fine_tuning2_exp2['FINE_TUNING'].iloc[0], fine_tuning2_exp2['f1 score'].iloc[0], fine_tuning2_exp2['f1 score'].iloc[1], fine_tuning2_exp2['f1 score'].iloc[2], fine_tuning2_exp2['f1 score'].iloc[3]], index=feat_results_transf.columns)\n",
    "                             \n",
    "        \n",
    "    list_of_Series += [Series_fine_tuning1_exp1, Series_fine_tuning1_exp2, Series_fine_tuning2_exp1, Series_fine_tuning2_exp2]\n",
    "\n",
    "feat_results_transf = feat_results_transf.append(list_of_Series, ignore_index=True).sort_values(by=['FEATURE','EXPERIMENT','FINE_TUNING']).reset_index()\n",
    "feat_results_transf.head()"
   ]
  },
  {
   "cell_type": "markdown",
   "metadata": {},
   "source": [
    "2) Data Cleaning: Filter for f1 scores + mean/variance/std calculation of f1 score"
   ]
  },
  {
   "cell_type": "code",
   "execution_count": 35,
   "metadata": {},
   "outputs": [],
   "source": [
    "feat_results_f1 = feat_results_transf[['FEATURE','EXPERIMENT', 'FINE_TUNING', 'f1_1','f1_2','f1_3','f1_4']]\n",
    "    \n",
    "feat_results_f1 = feat_results_f1.reindex(columns = ['FEATURE','EXPERIMENT', 'FINE_TUNING','f1_1','f1_2','f1_3','f1_4','mean','variance', 'standard dev'])\n",
    "\n",
    "# changing to procent format\n",
    "feat_results_f1['f1_1'] = feat_results_f1['f1_1'].apply(lambda x: x*100)\n",
    "feat_results_f1['f1_2'] = feat_results_f1['f1_2'].apply(lambda x: x*100)\n",
    "feat_results_f1['f1_3'] = feat_results_f1['f1_3'].apply(lambda x: x*100)\n",
    "feat_results_f1['f1_4'] = feat_results_f1['f1_4'].apply(lambda x: x*100)\n",
    "\n",
    "for index, row in feat_results_f1.iterrows():\n",
    "    \n",
    "    if row['f1_4'] == 0:\n",
    "        feat_results_f1.at[index,'mean'] = np.mean([row['f1_1'],row['f1_2'],row['f1_3']])\n",
    "        feat_results_f1.at[index,'variance'] = np.var([row['f1_1'],row['f1_2'],row['f1_3']])\n",
    "        feat_results_f1.at[index,'standard dev'] = np.std([row['f1_1'],row['f1_2'],row['f1_3']])\n",
    "    else:\n",
    "        feat_results_f1.at[index,'mean'] = np.mean([row['f1_1'],row['f1_2'],row['f1_3'],row['f1_4']])\n",
    "        feat_results_f1.at[index,'variance'] = np.var([row['f1_1'],row['f1_2'],row['f1_3'],row['f1_4']])\n",
    "        feat_results_f1.at[index,'standard dev'] = np.std([row['f1_1'],row['f1_2'],row['f1_3'],row['f1_4']])\n",
    "\n",
    "feat_results_f1.to_csv('Features_all_results.csv', index=False)"
   ]
  },
  {
   "cell_type": "markdown",
   "metadata": {},
   "source": [
    "3) Change format to: [EXPERIMENT, FINE_TUNING_1_f1_score_mean, FINE_TUNING_1_f1_score_std, FINE_TUNING_2_f1_score_mean, FINE_TUNING_2_f1_score_std, relative improvement]"
   ]
  },
  {
   "cell_type": "markdown",
   "metadata": {},
   "source": [
    "Note: for each feature two experiments changing eval/fine-tune TRUE group"
   ]
  },
  {
   "cell_type": "code",
   "execution_count": 36,
   "metadata": {},
   "outputs": [],
   "source": [
    "feat_results_compressed = pd.DataFrame(columns=['FEATURE','EXPERIM','FINT1_f1_mean','FINT1_f1_std','FINT2_f1_mean','FINT2_f1_std','rel. Diff'])\n",
    "\n",
    "list_of_Series = []\n",
    "\n",
    "for index, row in feat_results_f1.iterrows():\n",
    "    \n",
    "    if (index % 2 == 0):\n",
    "            \n",
    "        f2_mean = feat_results_f1.iloc[index+1]['mean']\n",
    "        f2_std = feat_results_f1.iloc[index+1]['standard dev']\n",
    "        rel_diff = ((f2_mean - row['mean'])/ row['mean'])*100\n",
    "            \n",
    "            \n",
    "        list_of_Series += [pd.Series([row['FEATURE'],row['EXPERIMENT'], row['mean'], row['standard dev'], f2_mean, f2_std, rel_diff], index=feat_results_compressed.columns)]\n",
    "\n",
    "feat_results_compressed = feat_results_compressed.append(list_of_Series, ignore_index=True)\n",
    "\n",
    "feat_results_compressed.to_csv('Features_compressed.csv', index=False)\n",
    "feat_results_compressed.to_excel(\"features_results_analysed.xlsx\") "
   ]
  },
  {
   "cell_type": "code",
   "execution_count": null,
   "metadata": {},
   "outputs": [],
   "source": []
  }
 ],
 "metadata": {
  "kernelspec": {
   "display_name": "Python 3",
   "language": "python",
   "name": "python3"
  },
  "language_info": {
   "codemirror_mode": {
    "name": "ipython",
    "version": 3
   },
   "file_extension": ".py",
   "mimetype": "text/x-python",
   "name": "python",
   "nbconvert_exporter": "python",
   "pygments_lexer": "ipython3",
   "version": "3.7.3"
  }
 },
 "nbformat": 4,
 "nbformat_minor": 4
}
